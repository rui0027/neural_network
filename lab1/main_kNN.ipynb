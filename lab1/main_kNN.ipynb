{
 "cells": [
  {
   "cell_type": "markdown",
   "metadata": {},
   "source": [
    "### **0. Quick introduction to jupyter notebooks**\n",
    "* Each cell in this notebook contains either code or text.\n",
    "* You can run a cell by pressing Ctrl-Enter, or run and advance to the next cell with Shift-Enter.\n",
    "* You can create a cell above the current one by pressing A, or below by pressing B. This only works in command mode (press Esc when editing).\n",
    "* Code cells will print their output, including images, below the cell. Running it again deletes the previous output, so be careful if you want to save some reuslts.\n",
    "* You don't have to rerun all cells to test changes, just rerun the cell you have made changes to. Some exceptions might apply, for example if you overwrite variables from previous cells, but in general this will work.\n",
    "* If all else fails, use the \"Kernel\" menu and select \"Restart Kernel and Clear All Output\". You can also use this menu to run all cells."
   ]
  },
  {
   "cell_type": "code",
   "execution_count": 2,
   "metadata": {},
   "outputs": [],
   "source": [
    "# This configures the notebook to automatically reload code when it is changed in imported functions.\n",
    "%reload_ext autoreload\n",
    "%autoreload 2\n",
    "\n",
    "# Import all we need\n",
    "import numpy as np\n",
    "from matplotlib import pyplot as plt\n",
    "\n",
    "from utils import plotCase, loadDataSet, selectTrainingSamples, calcConfusionMatrix, calcAccuracy, plotResultDots, plotResultsOCR\n",
    "from classifiers import kNN\n",
    "\n",
    "plt.rcParams['figure.facecolor']='white'"
   ]
  },
  {
   "cell_type": "code",
   "execution_count": 112,
   "metadata": {},
   "outputs": [],
   "source": [
    "## Select which data to use:\n",
    "\n",
    "# 1 = dot cloud 1\n",
    "# 2 = dot cloud 2\n",
    "# 3 = dot cloud 3\n",
    "# 4 = OCR data\n",
    "\n",
    "dataSetNr = 4  # Change this to load new data\n",
    "\n",
    "# X - Data samples\n",
    "# D - Desired output from classifier for each sample\n",
    "# L - Labels for each sample\n",
    "X, D, L = loadDataSet(dataSetNr)\n",
    "\n",
    "# You can plot and study dataset 1 to 3 by running:\n",
    "if dataSetNr in [1,2,3]:\n",
    "    plotCase(X,L)"
   ]
  },
  {
   "cell_type": "code",
   "execution_count": 113,
   "metadata": {},
   "outputs": [],
   "source": [
    "# Select a subset of the training samples\n",
    "numBins = 6                       # Number of bins you want to divide your data into\n",
    "numSamplesPerLabelPerBin = np.inf  # Number of samples per label per bin, set to inf for max number (total number is numLabels*numSamplesPerBin)\n",
    "selectAtRandom = True           # true = select samples at random, false = select the first features\n",
    "\n",
    "# Split data into bins based on the settings above.\n",
    "# The outputs are lists of length numBins, where each item is a data array. Try printing for example XBins[0].shape.\n",
    "XBins, DBins, LBins = selectTrainingSamples(X, D, L, numSamplesPerLabelPerBin, numBins, selectAtRandom)\n",
    "\n",
    "# To extract a single bin from them use e.g.:\n",
    "# XBin0 = XBins[0]\n",
    "# Or to combine several bins into one matrix (good for cross validataion), use the numpy function concatenate:\n",
    "# XBinComb = np.concatenate(XBins[0:4])\n",
    "# This example combines 4 bins, nr 0 to 3.\n",
    "\n",
    "# Add your own code to setup data for training and test here\n",
    "XTrain = np.concatenate(XBins[0:5])\n",
    "DTrain = np.concatenate(DBins[0:5])\n",
    "LTrain = np.concatenate(LBins[0:5])\n",
    "XTest  = XBins[5]\n",
    "DTest  = DBins[5]\n",
    "LTest  = LBins[5]"
   ]
  },
  {
   "cell_type": "code",
   "execution_count": 114,
   "metadata": {},
   "outputs": [
    {
     "data": {
      "text/plain": [
       "2"
      ]
     },
     "execution_count": 114,
     "metadata": {},
     "output_type": "execute_result"
    }
   ],
   "source": [
    "# Select a value for k, either ...\n",
    "\n",
    "# ... set it manually\n",
    "k = 5\n",
    "\n",
    "# ... or find an optimal value using cross-validation (skip this until you have a working implementation of kNN)\n",
    "k_cross_acc=[]\n",
    "for kn in range(1,31):\n",
    "    acc_list=[]\n",
    "    for n in range(1,numBins-1):\n",
    "        XTrain=np.concatenate([XBins[i] for i in range(numBins-1) if i!=n])\n",
    "        LTrain=np.concatenate([LBins[i] for i in range(numBins-1) if i!=n])\n",
    "        XValid=XBins[n]\n",
    "        LValid=LBins[n]\n",
    "        LPredValid=kNN(XValid,kn,XTrain,LTrain)\n",
    "        acc_list.append(calcAccuracy(calcConfusionMatrix(LPredValid,LValid)))\n",
    "    k_cross_acc.append(sum(acc_list)/numBins)\n",
    "\n",
    "kopt=range(1,31)[np.argmax(k_cross_acc)]\n",
    "\n",
    "k=kopt\n",
    "k"
   ]
  },
  {
   "cell_type": "code",
   "execution_count": 115,
   "metadata": {},
   "outputs": [],
   "source": [
    "# Use kNN to classify data\n",
    "# Note: you have to modify the kNN() function in classifiers.py yourself.\n",
    "XTrain = np.concatenate(XBins[0:5])\n",
    "DTrain = np.concatenate(DBins[0:5])\n",
    "LTrain = np.concatenate(LBins[0:5])\n",
    "XTest  = XBins[5]\n",
    "DTest  = DBins[5]\n",
    "LTest  = LBins[5]\n",
    "# Classify training data\n",
    "LPredTrain = kNN(XTrain, k, XTrain, LTrain)\n",
    "# Classify test data\n",
    "LPredTest  = kNN(XTest , k, XTrain, LTrain)"
   ]
  },
  {
   "cell_type": "code",
   "execution_count": 116,
   "metadata": {},
   "outputs": [
    {
     "name": "stdout",
     "output_type": "stream",
     "text": [
      "Confusion matrix:\n",
      "[[92.  0.  0.  0.  0.  0.  0.  0.  0.  0.]\n",
      " [ 0. 91.  0.  0.  0.  0.  0.  0.  5.  0.]\n",
      " [ 0.  0. 92.  0.  0.  0.  0.  0.  0.  0.]\n",
      " [ 0.  0.  0. 91.  0.  0.  0.  0.  0.  0.]\n",
      " [ 0.  0.  0.  0. 88.  0.  0.  0.  0.  1.]\n",
      " [ 0.  0.  0.  0.  0. 90.  0.  0.  0.  0.]\n",
      " [ 0.  0.  0.  0.  1.  1. 92.  0.  0.  0.]\n",
      " [ 0.  1.  0.  1.  0.  0.  0. 92.  0.  1.]\n",
      " [ 0.  0.  0.  0.  0.  0.  0.  0. 86.  1.]\n",
      " [ 0.  0.  0.  0.  3.  1.  0.  0.  1. 89.]]\n",
      "Accuracy: 0.9815\n"
     ]
    }
   ],
   "source": [
    "# Calculate The Confusion Matrix and the Accuracy\n",
    "# Note: you have to modify the calcConfusionMatrix() and calcAccuracy() functions in utils.py yourself.\n",
    "\n",
    "# The confusion matrix\n",
    "cM = calcConfusionMatrix(LPredTest, LTest)\n",
    "\n",
    "# The accuracy\n",
    "acc = calcAccuracy(cM)\n",
    "\n",
    "# Print the results\n",
    "print(\"Confusion matrix:\")\n",
    "print(cM)\n",
    "print(f'Accuracy: {acc:.4f}')"
   ]
  },
  {
   "cell_type": "code",
   "execution_count": 118,
   "metadata": {},
   "outputs": [
    {
     "ename": "ValueError",
     "evalue": "Unknown format code 'd' for object of type 'float'",
     "output_type": "error",
     "traceback": [
      "\u001b[1;31m---------------------------------------------------------------------------\u001b[0m",
      "\u001b[1;31mValueError\u001b[0m                                Traceback (most recent call last)",
      "Input \u001b[1;32mIn [118]\u001b[0m, in \u001b[0;36m<cell line: 4>\u001b[1;34m()\u001b[0m\n\u001b[0;32m      5\u001b[0m     plotResultDots(XTrain, LTrain, LPredTrain, XTest, LTest, LPredTest, \u001b[38;5;124m'\u001b[39m\u001b[38;5;124mkNN\u001b[39m\u001b[38;5;124m'\u001b[39m, [], k)\n\u001b[0;32m      6\u001b[0m \u001b[38;5;28;01melse\u001b[39;00m:\n\u001b[1;32m----> 7\u001b[0m     \u001b[43mplotResultsOCR\u001b[49m\u001b[43m(\u001b[49m\u001b[43mXTest\u001b[49m\u001b[43m,\u001b[49m\u001b[43m \u001b[49m\u001b[43mLTest\u001b[49m\u001b[43m,\u001b[49m\u001b[43m \u001b[49m\u001b[43mLPredTest\u001b[49m\u001b[43m)\u001b[49m\n",
      "File \u001b[1;32m~\\utils.py:245\u001b[0m, in \u001b[0;36mplotResultsOCR\u001b[1;34m(X, L, LPred)\u001b[0m\n\u001b[0;32m    243\u001b[0m     plt\u001b[38;5;241m.\u001b[39msubplot(\u001b[38;5;241m4\u001b[39m,\u001b[38;5;241m4\u001b[39m,n\u001b[38;5;241m+\u001b[39m\u001b[38;5;241m1\u001b[39m)\n\u001b[0;32m    244\u001b[0m     plt\u001b[38;5;241m.\u001b[39mimshow(X[idx]\u001b[38;5;241m.\u001b[39mreshape((\u001b[38;5;241m8\u001b[39m,\u001b[38;5;241m8\u001b[39m)), cmap\u001b[38;5;241m=\u001b[39m\u001b[38;5;124m'\u001b[39m\u001b[38;5;124mgray\u001b[39m\u001b[38;5;124m'\u001b[39m)\n\u001b[1;32m--> 245\u001b[0m     plt\u001b[38;5;241m.\u001b[39mtitle(\u001b[38;5;124mr\u001b[39m\u001b[38;5;124m'\u001b[39m\u001b[38;5;124m$L_\u001b[39m\u001b[38;5;132;01m{true}\u001b[39;00m\u001b[38;5;124m=$\u001b[39m\u001b[38;5;124m'\u001b[39m \u001b[38;5;241m+\u001b[39m \u001b[38;5;124m'\u001b[39m\u001b[38;5;132;01m{:d}\u001b[39;00m\u001b[38;5;124m'\u001b[39m\u001b[38;5;241m.\u001b[39mformat(L[idx]\u001b[38;5;241m-\u001b[39m\u001b[38;5;241m1\u001b[39m) \u001b[38;5;241m+\u001b[39m \u001b[38;5;124m'\u001b[39m\u001b[38;5;124m, $L_\u001b[39m\u001b[38;5;132;01m{pred}\u001b[39;00m\u001b[38;5;124m=$\u001b[39m\u001b[38;5;124m'\u001b[39m \u001b[38;5;241m+\u001b[39m \u001b[38;5;124;43m'\u001b[39;49m\u001b[38;5;132;43;01m{:d}\u001b[39;49;00m\u001b[38;5;124;43m'\u001b[39;49m\u001b[38;5;241;43m.\u001b[39;49m\u001b[43mformat\u001b[49m\u001b[43m(\u001b[49m\u001b[43mLPred\u001b[49m\u001b[43m[\u001b[49m\u001b[43midx\u001b[49m\u001b[43m]\u001b[49m\u001b[38;5;241;43m-\u001b[39;49m\u001b[38;5;241;43m1\u001b[39;49m\u001b[43m)\u001b[49m)\n\u001b[0;32m    246\u001b[0m     plt\u001b[38;5;241m.\u001b[39maxis(\u001b[38;5;124m'\u001b[39m\u001b[38;5;124moff\u001b[39m\u001b[38;5;124m'\u001b[39m)\n\u001b[0;32m    247\u001b[0m plt\u001b[38;5;241m.\u001b[39mshow()\n",
      "\u001b[1;31mValueError\u001b[0m: Unknown format code 'd' for object of type 'float'"
     ]
    },
    {
     "data": {
      "image/png": "[encoded data removed]",
      "text/plain": [
       "<Figure size 576x576 with 1 Axes>"
      ]
     },
     "metadata": {},
     "output_type": "display_data"
    }
   ],
   "source": [
    "# Plot classifications\n",
    "# Note: You should not have to modify this code\n",
    "\n",
    "if dataSetNr < 4:\n",
    "    plotResultDots(XTrain, LTrain, LPredTrain, XTest, LTest, LPredTest, 'kNN', [], k)\n",
    "else:\n",
    "    plotResultsOCR(XTest, LTest, LPredTest)"
   ]
  },
  {
   "cell_type": "code",
   "execution_count": 35,
   "metadata": {},
   "outputs": [],
   "source": [
    "##########"
   ]
  },
  {
   "cell_type": "code",
   "execution_count": null,
   "metadata": {},
   "outputs": [],
   "source": []
  }
 ],
 "metadata": {
  "interpreter": {
   "hash": "bd50aace418a96e8a4fe691a4d2292bd7058ca4eeebcf0b6e2084f539c4e7b28"
  },
  "kernelspec": {
   "display_name": "Python 3 (ipykernel)",
   "language": "python",
   "name": "python3"
  },
  "language_info": {
   "codemirror_mode": {
    "name": "ipython",
    "version": 3
   },
   "file_extension": ".py",
   "mimetype": "text/x-python",
   "name": "python",
   "nbconvert_exporter": "python",
   "pygments_lexer": "ipython3",
   "version": "3.9.12"
  }
 },
 "nbformat": 4,
 "nbformat_minor": 4
}
